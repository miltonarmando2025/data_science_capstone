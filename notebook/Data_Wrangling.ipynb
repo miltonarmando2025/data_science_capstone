{
 "cells": [
  {
   "cell_type": "code",
   "execution_count": null,
   "metadata": {
    "vscode": {
     "languageId": "plaintext"
    }
   },
   "outputs": [],
   "source": [
    "!pip install pandas numpy matplotlib seaborn scikit-learn"
   ]
  },
  {
   "cell_type": "code",
   "execution_count": null,
   "metadata": {
    "vscode": {
     "languageId": "plaintext"
    }
   },
   "outputs": [],
   "source": [
    "import pandas as pd\n",
    "\n",
    "# Load raw data\n",
    "raw_df = pd.read_csv('../data/raw_data.csv')\n",
    "\n",
    "# Handle missing values\n",
    "raw_df['income'] = raw_df['income'].fillna(raw_df['income'].median())\n",
    "\n",
    "# Encode categorical variables\n",
    "raw_df['purchase_encoded'] = raw_df['purchase'].map({'Yes': 1, 'No': 0})\n",
    "\n",
    "# Save cleaned data\n",
    "raw_df.to_csv('../data/cleaned_data.csv', index=False)"
   ]
  }
 ],
 "metadata": {
  "language_info": {
   "name": "python"
  }
 },
 "nbformat": 4,
 "nbformat_minor": 2
}
